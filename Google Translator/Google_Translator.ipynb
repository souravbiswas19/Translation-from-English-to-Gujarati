{
  "nbformat": 4,
  "nbformat_minor": 0,
  "metadata": {
    "colab": {
      "provenance": []
    },
    "kernelspec": {
      "name": "python3",
      "display_name": "Python 3"
    },
    "language_info": {
      "name": "python"
    }
  },
  "cells": [
    {
      "cell_type": "code",
      "source": [
        "!pip install googletrans==3.1.0a0"
      ],
      "metadata": {
        "colab": {
          "base_uri": "https://localhost:8080/"
        },
        "id": "JHRMvgxMUvf9",
        "outputId": "61f98ceb-5763-41bb-985d-7e70afa9e869"
      },
      "execution_count": 3,
      "outputs": [
        {
          "output_type": "stream",
          "name": "stdout",
          "text": [
            "Collecting googletrans==3.1.0a0\n",
            "  Downloading googletrans-3.1.0a0.tar.gz (19 kB)\n",
            "  Preparing metadata (setup.py) ... \u001b[?25l\u001b[?25hdone\n",
            "Requirement already satisfied: httpx==0.13.3 in /usr/local/lib/python3.10/dist-packages (from googletrans==3.1.0a0) (0.13.3)\n",
            "Requirement already satisfied: certifi in /usr/local/lib/python3.10/dist-packages (from httpx==0.13.3->googletrans==3.1.0a0) (2024.2.2)\n",
            "Requirement already satisfied: hstspreload in /usr/local/lib/python3.10/dist-packages (from httpx==0.13.3->googletrans==3.1.0a0) (2024.2.1)\n",
            "Requirement already satisfied: sniffio in /usr/local/lib/python3.10/dist-packages (from httpx==0.13.3->googletrans==3.1.0a0) (1.3.0)\n",
            "Requirement already satisfied: chardet==3.* in /usr/local/lib/python3.10/dist-packages (from httpx==0.13.3->googletrans==3.1.0a0) (3.0.4)\n",
            "Requirement already satisfied: idna==2.* in /usr/local/lib/python3.10/dist-packages (from httpx==0.13.3->googletrans==3.1.0a0) (2.10)\n",
            "Requirement already satisfied: rfc3986<2,>=1.3 in /usr/local/lib/python3.10/dist-packages (from httpx==0.13.3->googletrans==3.1.0a0) (1.5.0)\n",
            "Requirement already satisfied: httpcore==0.9.* in /usr/local/lib/python3.10/dist-packages (from httpx==0.13.3->googletrans==3.1.0a0) (0.9.1)\n",
            "Requirement already satisfied: h11<0.10,>=0.8 in /usr/local/lib/python3.10/dist-packages (from httpcore==0.9.*->httpx==0.13.3->googletrans==3.1.0a0) (0.9.0)\n",
            "Requirement already satisfied: h2==3.* in /usr/local/lib/python3.10/dist-packages (from httpcore==0.9.*->httpx==0.13.3->googletrans==3.1.0a0) (3.2.0)\n",
            "Requirement already satisfied: hyperframe<6,>=5.2.0 in /usr/local/lib/python3.10/dist-packages (from h2==3.*->httpcore==0.9.*->httpx==0.13.3->googletrans==3.1.0a0) (5.2.0)\n",
            "Requirement already satisfied: hpack<4,>=3.0 in /usr/local/lib/python3.10/dist-packages (from h2==3.*->httpcore==0.9.*->httpx==0.13.3->googletrans==3.1.0a0) (3.0.0)\n",
            "Building wheels for collected packages: googletrans\n",
            "  Building wheel for googletrans (setup.py) ... \u001b[?25l\u001b[?25hdone\n",
            "  Created wheel for googletrans: filename=googletrans-3.1.0a0-py3-none-any.whl size=16352 sha256=2833c07a185971257697d8f62c10be6c65f815f4dfd7185475a7661a218ed51b\n",
            "  Stored in directory: /root/.cache/pip/wheels/50/5d/3c/8477d0af4ca2b8b1308812c09f1930863caeebc762fe265a95\n",
            "Successfully built googletrans\n",
            "Installing collected packages: googletrans\n",
            "Successfully installed googletrans-3.1.0a0\n"
          ]
        }
      ]
    },
    {
      "cell_type": "code",
      "source": [
        "from googletrans import Translator\n",
        "translator = Translator()\n",
        "out=translator.translate(\"I am Sourav Biswas\", dest=\"gu\")\n",
        "print(out.text)"
      ],
      "metadata": {
        "colab": {
          "base_uri": "https://localhost:8080/"
        },
        "id": "G5-j_47WUww-",
        "outputId": "38c2558a-7ac7-4c07-a807-aae2c027cf40"
      },
      "execution_count": 8,
      "outputs": [
        {
          "output_type": "stream",
          "name": "stdout",
          "text": [
            "હું સૌરવ બિસ્વાસ છું\n"
          ]
        }
      ]
    },
    {
      "cell_type": "code",
      "source": [
        "file_path = \"Task2.txt\"\n",
        "with open(file_path, \"r\", encoding=\"utf-8\") as file:\n",
        "    text = file.read()"
      ],
      "metadata": {
        "id": "ncLkdJSrdCf-"
      },
      "execution_count": 28,
      "outputs": []
    },
    {
      "cell_type": "code",
      "source": [
        "out=translator.translate(text, dest=\"gu\")\n",
        "print(out.text)"
      ],
      "metadata": {
        "colab": {
          "base_uri": "https://localhost:8080/"
        },
        "id": "9FA3GGo_aCgq",
        "outputId": "9143c798-56fb-482a-a154-3eae0bab75a2"
      },
      "execution_count": 29,
      "outputs": [
        {
          "output_type": "stream",
          "name": "stdout",
          "text": [
            "સારાંશ: નેગોશિયેબલ ઇન્સ્ટ્રુમેન્ટ એક્ટની કલમ 138 હેઠળ ફરિયાદ પરનો ચુકાદો\n",
            "પરિચય\n",
            "આ લખાણ નેગોશિયેબલ ઇન્સ્ટ્રુમેન્ટ એક્ટની કલમ 138 હેઠળ દાખલ કરવામાં આવેલી ફરિયાદ અંગે ભારતના સર્વોચ્ચ અદાલતના ચુકાદાની ચર્ચા કરે છે. આ કેસમાં પ્રતિવાદી દ્વારા જારી કરાયેલા ચેક પર વિવાદનો સમાવેશ થાય છે, જે અપૂરતા ભંડોળને કારણે પરત કરવામાં આવ્યો હતો. ટ્રાયલ કોર્ટે શરૂઆતમાં ફરિયાદને ફગાવી દીધી હતી, પરંતુ સર્વોચ્ચ અદાલતે તેને સમર્થન આપ્યું હતું, કારણ કે ચેક ખરેખર પ્રતિવાદી દ્વારા જારી કરવામાં આવ્યો હતો.\n",
            "કી પોઇન્ટ\n",
            "સફરજનના ડબ્બાઓની સંખ્યા અને બાકી રકમ અંગેના પુરાવામાં વિરોધાભાસને કારણે શરૂઆતમાં ફરિયાદ રદ કરવામાં આવી હતી.\n",
            "હાઈકોર્ટે સ્થાપિત કર્યું કે ચેકમાં અન્યથા સાબિત ન થાય ત્યાં સુધી વિચારણાની ધારણા છે.\n",
            "પુરાવાનો બોજ આરોપી પર છે કે તેઓ કોઈ દેવું અસ્તિત્વમાં નથી તે દર્શાવવા પુરાવા અથવા સંજોગો આપીને વિચારણાની ધારણાને રદિયો આપે છે.\n",
            "અદાલત કાયદાની કલમ 139 હેઠળ દેવું અથવા જવાબદારીની ધારણાની ચર્ચા કરે છે અને જણાવે છે કે જો આરોપી સંભવિત બચાવ રજૂ કરે તો તે નિષ્ફળ થઈ શકે છે.\n",
            "કોર્ટ ભારપૂર્વક જણાવે છે કે કલમ 139 હેઠળની ધારણા એ મુકદ્દમામાં અનુચિત વિલંબને રોકવા માટેનું એક સાધન છે અને ચેકનું અપમાન કરવું એ મોટાભાગે નાગરિક ખોટું છે.\n",
            "આ કેસમાં ઉત્તરદાતા ચેક જારી કરવામાં વિચારણાની ધારણાને રદિયો આપવા માટે કોઈ પુરાવા પ્રદાન કરવામાં નિષ્ફળ ગયા.\n",
            "બાકી રકમના નિર્ધારણમાં વિસંગતતાઓના આધારે ફરિયાદને બરતરફ કરવા માટે નીચેની અદાલતોની ટીકા કરવામાં આવી હતી.\n",
            "જવાબ આપનારને ચેકનું અપમાન કરવા બદલ દોષિત ગણવામાં આવે છે અને તેને દંડ અને ખર્ચ ચૂકવવાનો આદેશ આપવામાં આવે છે.\n",
            "નિષ્કર્ષ\n",
            "નિષ્કર્ષમાં, ભારતની સર્વોચ્ચ અદાલતે નેગોશિયેબલ ઇન્સ્ટ્રુમેન્ટ એક્ટની કલમ 138 હેઠળ દાખલ કરાયેલી ફરિયાદને સમર્થન આપ્યું હતું. અદાલતને જાણવા મળ્યું કે ચેક પ્રતિવાદી દ્વારા જારી કરવામાં આવ્યો હતો અને પુરાવામાં વિસંગતતાઓના આધારે ફરિયાદને ફગાવી દેવા માટે નીચલી અદાલતોની ટીકા કરી હતી. કોર્ટે કલમ 139 હેઠળ વિચારણાની ધારણા પર ભાર મૂક્યો અને જવાબ આપનારને ચેકનું અપમાન કરવા માટે દોષિત ઠેરવ્યા. પ્રતિવાદીને દંડ અને ખર્ચ ચૂકવવાનો આદેશ આપવામાં આવ્યો હતો.\n"
          ]
        }
      ]
    },
    {
      "cell_type": "code",
      "source": [],
      "metadata": {
        "id": "YfmJHgCkap1m"
      },
      "execution_count": null,
      "outputs": []
    }
  ]
}